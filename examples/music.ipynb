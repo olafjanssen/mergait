{
 "metadata": {
  "language_info": {
   "codemirror_mode": {
    "name": "ipython",
    "version": 3
   },
   "file_extension": ".py",
   "mimetype": "text/x-python",
   "name": "python",
   "nbconvert_exporter": "python",
   "pygments_lexer": "ipython3",
   "version": "3.9.2-final"
  },
  "orig_nbformat": 2,
  "kernelspec": {
   "name": "python392jvsc74a57bd0aee8b7b246df8f9039afb4144a1f6fd8d2ca17a180786b69acc140d282b71a49",
   "display_name": "Python 3.9.2 64-bit"
  },
  "metadata": {
   "interpreter": {
    "hash": "aee8b7b246df8f9039afb4144a1f6fd8d2ca17a180786b69acc140d282b71a49"
   }
  }
 },
 "nbformat": 4,
 "nbformat_minor": 2,
 "cells": [
  {
   "source": [
    "# Combining running and music parameters\n",
    "> Dislcaimer: This notebook is still only a stub."
   ],
   "cell_type": "markdown",
   "metadata": {}
  },
  {
   "cell_type": "code",
   "execution_count": 3,
   "metadata": {},
   "outputs": [],
   "source": [
    "import warnings\n",
    "warnings.filterwarnings('ignore')\n",
    "\n",
    "%matplotlib inline\n",
    "import numpy as np\n",
    "import matplotlib.pyplot as plt\n",
    "import pandas as pd\n",
    "\n",
    "import matplotlib.pyplot as plt\n",
    "\n",
    "import logging\n",
    "logger = logging.getLogger()\n",
    "logger.setLevel(logging.ERROR)"
   ]
  },
  {
   "cell_type": "code",
   "execution_count": 4,
   "metadata": {},
   "outputs": [
    {
     "output_type": "execute_result",
     "data": {
      "text/plain": [
       "  session_id user_id                       t_start  \\\n",
       "0         s1      u0 1970-01-01 00:00:00.000000000   \n",
       "1         s0      u0 1970-01-14 00:16:00.758486271   \n",
       "\n",
       "                          t_end     duration  \n",
       "0 1970-01-01 01:02:26.141195059  3746.141195  \n",
       "1 1970-01-14 01:22:31.301756143  3990.543270  "
      ],
      "text/html": "<div>\n<style scoped>\n    .dataframe tbody tr th:only-of-type {\n        vertical-align: middle;\n    }\n\n    .dataframe tbody tr th {\n        vertical-align: top;\n    }\n\n    .dataframe thead th {\n        text-align: right;\n    }\n</style>\n<table border=\"1\" class=\"dataframe\">\n  <thead>\n    <tr style=\"text-align: right;\">\n      <th></th>\n      <th>session_id</th>\n      <th>user_id</th>\n      <th>t_start</th>\n      <th>t_end</th>\n      <th>duration</th>\n    </tr>\n  </thead>\n  <tbody>\n    <tr>\n      <th>0</th>\n      <td>s1</td>\n      <td>u0</td>\n      <td>1970-01-01 00:00:00.000000000</td>\n      <td>1970-01-01 01:02:26.141195059</td>\n      <td>3746.141195</td>\n    </tr>\n    <tr>\n      <th>1</th>\n      <td>s0</td>\n      <td>u0</td>\n      <td>1970-01-14 00:16:00.758486271</td>\n      <td>1970-01-14 01:22:31.301756143</td>\n      <td>3990.543270</td>\n    </tr>\n  </tbody>\n</table>\n</div>"
     },
     "metadata": {},
     "execution_count": 4
    }
   ],
   "source": [
    "from mergait.utility import *\n",
    "data_path = '../data/sample_full_obf/'\n",
    "\n",
    "df_sessions = load_datadumps('sessions.csv', timestamp_columns=['t_start', 't_end'], base_path=data_path)\n",
    "\n",
    "df_footpods, df_footpods_sc, df_music, df_phone_activity, df_phone_motion, df_phone_location = load_datadumps(['footpods.csv', 'footpods_sc.csv','music.csv','phone_activity.csv','phone_motion.csv.gz','phone_location.csv'], base_path=data_path)\n",
    "\n",
    "df_music_features_tracks, df_music_features_sections = load_datadumps(['music_features_tracks.csv','music_features_sections.csv'], timestamp_columns=[], base_path=data_path)\n",
    "\n",
    "df_sessions"
   ]
  },
  {
   "cell_type": "code",
   "execution_count": 5,
   "metadata": {},
   "outputs": [
    {
     "output_type": "stream",
     "name": "stderr",
     "text": [
      "DEBUG:mergait-Recipes:[ Computing symmetry information from footpod data\n",
      "DEBUG:mergait-Recipes:Computing aggregate statistics per song/section\n",
      "DEBUG:mergait-Recipes:] Done, computed symmetry for 18063 cycles in 36 songs/sections\n"
     ]
    }
   ],
   "source": [
    "from mergait.recipes import *\n",
    "\n",
    "df_pod_steps, df_pod_symmetry = recipe_footpod_symmetry(df_footpods, df_music, df_phone_activity, df_sessions)"
   ]
  },
  {
   "cell_type": "code",
   "execution_count": 6,
   "metadata": {},
   "outputs": [
    {
     "output_type": "stream",
     "name": "stderr",
     "text": [
      "DEBUG:mergait-Recipes:[ Computing symmetry information from footpod data\n",
      "DEBUG:mergait-Recipes:Computing aggregate statistics per song/section\n",
      "DEBUG:mergait-Recipes:] Done, computed symmetry for 18063 cycles in 289 songs/sections\n"
     ]
    }
   ],
   "source": [
    "df_pod_steps_sections, df_pod_symmetry_sections = recipe_footpod_symmetry(df_footpods, df_music, df_phone_activity, df_sessions, sections=df_music_features_sections)"
   ]
  },
  {
   "cell_type": "code",
   "execution_count": 7,
   "metadata": {},
   "outputs": [
    {
     "output_type": "stream",
     "name": "stderr",
     "text": [
      "DEBUG:mergait-Recipes:[ Computing symmetry information from imu vertical acceleration\n",
      "DEBUG:MerGait:[ Extracting gait features from the vertical acceleration of a motion sensor\n",
      "DEBUG:MerGait:Finding initial and final contact peaks\n",
      "DEBUG:MerGait:Found 18815 IC and 18816 FC peaks\n",
      "DEBUG:MerGait:Collecting contact pairs for feature extraction\n",
      "DEBUG:MerGait:] Done, returning 15548 gait cycles\n",
      "DEBUG:mergait-Recipes:Computing aggregate statistics per song/section\n",
      "DEBUG:mergait-Recipes:[ Following recipe to compute Gait Symmetry Index per running bout\n",
      "DEBUG:mergait-Recipes:] Computed the gsi for 166 bouts\n",
      "DEBUG:mergait-Recipes:] Done, computed symmetry for 15048 cycles in 36 songs/sections\n"
     ]
    }
   ],
   "source": [
    "df_imu_steps, df_imu_symmetry = recipe_imu_symmetry(df_phone_motion, df_music, df_phone_activity, df_sessions)"
   ]
  },
  {
   "cell_type": "code",
   "execution_count": 8,
   "metadata": {},
   "outputs": [
    {
     "output_type": "stream",
     "name": "stderr",
     "text": [
      "DEBUG:mergait-Recipes:[ Computing symmetry information from imu vertical acceleration\n",
      "DEBUG:MerGait:[ Extracting gait features from the vertical acceleration of a motion sensor\n",
      "DEBUG:MerGait:Finding initial and final contact peaks\n",
      "DEBUG:MerGait:Found 18815 IC and 18816 FC peaks\n",
      "DEBUG:MerGait:Collecting contact pairs for feature extraction\n",
      "DEBUG:MerGait:] Done, returning 15548 gait cycles\n",
      "DEBUG:mergait-Recipes:Computing aggregate statistics per song/section\n",
      "DEBUG:mergait-Recipes:[ Following recipe to compute Gait Symmetry Index per running bout\n",
      "DEBUG:mergait-Recipes:] Computed the gsi for 400 bouts\n",
      "DEBUG:mergait-Recipes:] Done, computed symmetry for 15048 cycles in 286 songs/sections\n"
     ]
    }
   ],
   "source": [
    "df_imu_steps_sections, df_imu_symmetry_sections = recipe_imu_symmetry(df_phone_motion, df_music, df_phone_activity, df_sessions, sections=df_music_features_sections)"
   ]
  },
  {
   "cell_type": "code",
   "execution_count": null,
   "metadata": {},
   "outputs": [],
   "source": []
  }
 ]
}